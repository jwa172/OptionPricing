{
 "cells": [
  {
   "cell_type": "markdown",
   "id": "6a3a6966",
   "metadata": {},
   "source": [
    "## 1. Introduction to Asian options and their valuation (arithmetric averaging, fixed strike)\n",
    "\n",
    "The Asian option is a path-dependent exotic option whose payoff involves a historical average price of the underlying asset.\n",
    "\n",
    "Due to the averaging mechanism, Asian options have lower volatility and offers greater protection against price fluctuations compared to the plain European counterparts and are prevalent in the commodities, currency and energy markets.\n",
    "\n",
    "We begin with the geometric Brownian motion (GBM) stock process, $S(t)$ whose dynamics are given by\n",
    "$$\n",
    "\\begin{equation}\n",
    "    d S(t)=r S(t) d t+\\sigma S(t) d \\widetilde{W}(t)\n",
    "\\end{equation}\n",
    "$$\n",
    "where $\\widetilde{W}(t), 0\\leq t\\leq T$ denotes the Brownian motion under the risk neutral measure $\\widetilde{\\mathbb{P}}$.\n",
    "\n",
    "The payoff of the Asian call with the non-negative fixed-strike $K$ under arithmetic averaging at time $T$ is given by\n",
    "\n",
    "$$V(T) = \\left(\\frac{1}{T} \\int_0^T S(t) d t-K\\right)^{+}$$\n",
    "\n",
    "Assuming a constant interest rate $r$, the price for $t \\leq T$ is given by the risk-neutral pricing formula \n",
    "\n",
    "$$ V(t)=\\tilde{\\mathbb{E}}\\left[e^{-r(T-t)} V(T) \\mid \\mathcal{F}(t)\\right], \\quad 0 \\leq t \\leq T$$\n",
    "\n",
    "Under the Black-Scholes model, the option price is expressed in terms of both $S(t)$ and auxiliary variable $A(t) = \\int_0^t S(u) d u$ to obtain the Asian call option PDE:\n",
    "$$ \\frac{\\partial V}{\\partial t} + \\frac{1}{2} \\sigma^2 A^2 \\frac{\\partial^2 V}{\\partial A^2} + r A \\frac{\\partial V}{\\partial A} - r V = 0$$\n",
    "\n",
    "There is no closed form solution formula for price of the Asian option, due to the fact that the arithmetic average is not log-normally distributed.\n",
    "\n",
    "As such, the option prices often rely on numerical techniques or approximation methods. This will be the focus of this notebook.\n"
   ]
  },
  {
   "cell_type": "markdown",
   "id": "406978b3",
   "metadata": {},
   "source": [
    "## 2. Stock process"
   ]
  },
  {
   "cell_type": "markdown",
   "id": "b48066c2",
   "metadata": {},
   "source": [
    "### 2.1. Black-Scholes model\n",
    "\n",
    "The class `GBM` below implements the stock process (geometric Brownian motion) as in (1)."
   ]
  },
  {
   "cell_type": "code",
   "execution_count": 1,
   "id": "4bf76932",
   "metadata": {},
   "outputs": [],
   "source": [
    "import numpy as np\n",
    "import scipy\n",
    "from scipy.stats import norm\n",
    "import matplotlib.pyplot as plt\n",
    "\n",
    "class GBM():\n",
    "\n",
    "    # Initialise GBM model\n",
    "    def __init__(self, S_0, r, sigma, T, steps):\n",
    "        self.S_0 = S_0        \n",
    "        self.r = r          \n",
    "        self.sigma = sigma  \n",
    "        self.T = T\n",
    "        self.steps = steps\n",
    "        self.dt = T/(steps-1)\n",
    "\n",
    "    # Generate N paths\n",
    "    def generate_paths(self, n_paths):\n",
    "\n",
    "        X_0 = np.zeros((n_paths, 1))\n",
    "        r, sigma, dt = self.r, self.sigma, self.dt\n",
    "\n",
    "        # Create normal increments in the exponent\n",
    "        dW = norm.rvs(loc = (r - sigma**2 / 2) * dt,\n",
    "                      scale = np.sqrt(dt) * sigma,\n",
    "                      size = (n_paths, self.steps - 1))\n",
    "\n",
    "        # Multiply by spot price\n",
    "        X = np.concatenate((X_0, dW), axis=1).cumsum(1)\n",
    "\n",
    "        return self.S_0 * np.exp(X)"
   ]
  },
  {
   "cell_type": "code",
   "execution_count": 2,
   "id": "421cfcc4",
   "metadata": {},
   "outputs": [],
   "source": [
    "np.random.seed(0)\n",
    "\n",
    "S_0 = 100.0  # spot stock price\n",
    "T = 1  # maturity\n",
    "r = 0.1  # risk free rate\n",
    "sigma = 0.2  # diffusion coefficient or volatility\n",
    "\n",
    "n_steps = 10000 # number of steps\n",
    "\n",
    "S = GBM(S_0, r, sigma, T, n_steps)"
   ]
  },
  {
   "cell_type": "markdown",
   "id": "0b714acc",
   "metadata": {},
   "source": [
    "## 3. Option Pricing Methods\n",
    "\n",
    "### 3.1 Laplace inversion method \n",
    "\n",
    "#### Talbot algorithm"
   ]
  },
  {
   "cell_type": "code",
   "execution_count": 4,
   "id": "115089ab",
   "metadata": {},
   "outputs": [
    {
     "data": {
      "text/plain": [
       "7.03975000922774"
      ]
     },
     "execution_count": 4,
     "metadata": {},
     "output_type": "execute_result"
    }
   ],
   "source": [
    "from scipy import integrate\n",
    "from scipy.special import gamma\n",
    "\n",
    "K = 100 # Strike price\n",
    "M = 50 # Parameters of the algorithm\n",
    "\n",
    "S_0, T, r, sigma = S.S_0, S.T, S.r, S.sigma\n",
    "\n",
    "h = sigma**2 / 4\n",
    "q = K * T * sigma**2 / (4 * S_0)\n",
    "nu = 2*r / sigma**2 - 1\n",
    "\n",
    "d = np.zeros(M, dtype=complex)\n",
    "d[0] = 2 * M / 5\n",
    "for k in range(1, M):\n",
    "    d[k] = 2 * k * np.pi / 5 * (1 / np.tan(k * np.pi / M) + 1j)\n",
    "\n",
    "g = np.zeros(M, dtype=complex)\n",
    "g[0] = 0.5 * np.exp(d[0])\n",
    "for k in range(1, M):\n",
    "    g[k] = (1 + 1j * (k * np.pi / M) * (1 + (1 / np.tan(k * np.pi / M))**2) - 1j * (1 / np.tan(k * np.pi / M))) * np.exp(d[k])\n",
    "\n",
    "arg = d / h\n",
    "\n",
    "if np.any(np.abs(arg) < np.maximum(0, 2 * (nu + 1))):\n",
    "    raise ValueError('The argument is not in the right half-plane.')\n",
    "\n",
    "mu = np.sqrt(2 * arg + nu**2)\n",
    "alpha = (mu + nu) / 2\n",
    "beta = (mu - nu) / 2\n",
    "\n",
    "def complex_quadrature(func, a, b):\n",
    "    def real_func(x): return np.real(func(x))\n",
    "    def imag_func(x): return np.imag(func(x))\n",
    "\n",
    "    real_integral = integrate.quad(real_func, a, b)\n",
    "    imag_integral = integrate.quad(imag_func, a, b)\n",
    "    return real_integral[0] + 1j*imag_integral[0]\n",
    "\n",
    "def integrand(u, alpha, beta, q):\n",
    "    return u**(beta - 2) * (1 - u)**(alpha + 1) * np.exp(-u / (2 * q))\n",
    "\n",
    "# Handle arrays (integrate over multiple values of alpha, beta)\n",
    "results = []\n",
    "for a, b in zip(alpha, beta):\n",
    "    results.append(complex_quadrature(lambda u: integrand(u, a, b, q), 0.001, 0.999))\n",
    "\n",
    "results = np.array(results) \n",
    "\n",
    "res = (2 * q)**(1 - beta) / (2 * arg * (alpha + 1) * gamma(beta)) * results * g\n",
    "res = np.real(res)\n",
    "res =  2 / (5 * h) * np.sum(res)\n",
    "\n",
    "res *= np.exp(-r * T) * (S_0 * 4) / (T * sigma**2)\n",
    "res"
   ]
  }
 ],
 "metadata": {
  "kernelspec": {
   "display_name": "base",
   "language": "python",
   "name": "python3"
  },
  "language_info": {
   "codemirror_mode": {
    "name": "ipython",
    "version": 3
   },
   "file_extension": ".py",
   "mimetype": "text/x-python",
   "name": "python",
   "nbconvert_exporter": "python",
   "pygments_lexer": "ipython3",
   "version": "3.10.13"
  }
 },
 "nbformat": 4,
 "nbformat_minor": 5
}
