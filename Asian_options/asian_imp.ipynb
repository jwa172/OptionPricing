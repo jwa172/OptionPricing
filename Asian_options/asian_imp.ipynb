{
 "cells": [
  {
   "cell_type": "markdown",
   "id": "702c7e86",
   "metadata": {},
   "source": [
    "## 0. Libraries and version"
   ]
  },
  {
   "cell_type": "code",
   "execution_count": 322,
   "id": "26881522",
   "metadata": {},
   "outputs": [
    {
     "name": "stdout",
     "output_type": "stream",
     "text": [
      "Python version:     3.10.13 (main, Sep 11 2023, 08:24:56) [Clang 14.0.6 ]\n",
      "Numpy version:      1.26.4\n",
      "IPython version:    8.16.1\n",
      "Pandas version:     2.0.3\n",
      "SciPy version:      1.10.1\n"
     ]
    }
   ],
   "source": [
    "from sys import version \n",
    "import IPython\n",
    "import numpy as np\n",
    "import pandas as pd\n",
    "import matplotlib.pyplot as plt\n",
    "import seaborn as sns\n",
    "import scipy\n",
    "\n",
    "import warnings\n",
    "warnings.filterwarnings('ignore')\n",
    "\n",
    "print('Python version:     ' + version)\n",
    "print('Numpy version:      ' + np.__version__)\n",
    "print('IPython version:    ' + IPython.__version__)\n",
    "print('Pandas version:     ' + pd.__version__)\n",
    "print('SciPy version:      ' + scipy.__version__)"
   ]
  },
  {
   "cell_type": "markdown",
   "id": "6a3a6966",
   "metadata": {},
   "source": [
    "## 1. Introduction to Asian options and their valuation (arithmetric averaging, fixed strike)\n",
    "\n",
    "The Asian option is a path-dependent exotic option whose payoff involves a historical average price of the underlying asset.\n",
    "\n",
    "Due to the averaging mechanism, Asian options have lower volatility and offers greater protection against price fluctuations compared to the plain European counterparts and are prevalent in the commodities, currency and energy markets.\n",
    "\n",
    "We begin with the geometric Brownian motion (GBM) stock process, $S(t)$ whose dynamics are given by\n",
    "$$\n",
    "\\begin{equation}\n",
    "    d S(t)=r S(t) d t+\\sigma S(t) d \\widetilde{W}(t)\n",
    "\\end{equation}\n",
    "$$\n",
    "where $\\widetilde{W}(t), 0\\leq t\\leq T$ denotes the Brownian motion under the risk neutral measure $\\widetilde{\\mathbb{P}}$.\n",
    "\n",
    "The payoff of the Asian call with the non-negative fixed-strike $K$ under arithmetic averaging at time $T$ is given by\n",
    "\n",
    "$$V(T) = \\left(\\frac{1}{T} \\int_0^T S(t) d t-K\\right)^{+}$$\n",
    "\n",
    "Assuming a constant interest rate $r$, the price for $t \\leq T$ is given by the risk-neutral pricing formula \n",
    "\n",
    "$$ V(t)=\\tilde{\\mathbb{E}}\\left[e^{-r(T-t)} V(T) \\mid \\mathcal{F}(t)\\right], \\quad 0 \\leq t \\leq T$$\n",
    "\n",
    "Under the Black-Scholes model, the option price is expressed in terms of both $S(t)$ and auxiliary variable $A(t) = \\int_0^t S(u) d u$ to obtain the Asian call option PDE:\n",
    "$$ \\frac{\\partial V}{\\partial t} + \\frac{1}{2} \\sigma^2 A^2 \\frac{\\partial^2 V}{\\partial A^2} + r A \\frac{\\partial V}{\\partial A} - r V = 0$$"
   ]
  },
  {
   "cell_type": "markdown",
   "id": "91c15e7f",
   "metadata": {},
   "source": [
    "The stock process is given by $S \\sim \\text{GBM} (\\mu, \\sigma^2)$, i.e.\n",
    "\n",
    "$$dS_t = \\mu S_t dt + \\sigma S_t dW$$\n",
    "\n",
    "where $W$ is a Brownian motion. The solution to the PDE is given by"
   ]
  },
  {
   "cell_type": "markdown",
   "id": "406978b3",
   "metadata": {},
   "source": [
    "## 2. Stock process"
   ]
  },
  {
   "cell_type": "markdown",
   "id": "b48066c2",
   "metadata": {},
   "source": [
    "### 2.1. Black-Scholes model\n",
    "\n",
    "The class `GBM` below implements the stock process (geometric Brownian motion) as in (1)."
   ]
  },
  {
   "cell_type": "code",
   "execution_count": null,
   "id": "4bf76932",
   "metadata": {},
   "outputs": [],
   "source": [
    "from scipy.stats import norm\n",
    "\n",
    "class GBM():\n",
    "\n",
    "    # Initialise GBM model\n",
    "    def __init__(self, S_0, r, sigma, T, n):\n",
    "        self.S_0 = S_0        \n",
    "        self.r = r          \n",
    "        self.sigma = sigma\n",
    "        self.T = T\n",
    "        self.n = n\n",
    "        self.dt = T/(n-1)\n",
    "\n",
    "    # Generate N paths\n",
    "    def generate_paths(self, n_paths):\n",
    "\n",
    "        X_0 = np.zeros((n_paths, 1))\n",
    "        r, sigma, dt = self.r, self.sigma, self.dt\n",
    "\n",
    "        # Create normal increments in the exponent\n",
    "        dW = norm.rvs(loc = (r - sigma**2 / 2) * dt,\n",
    "                      scale = np.sqrt(dt) * sigma,\n",
    "                      size = (n_paths, self.n - 1))\n",
    "\n",
    "        # Multiply by spot price\n",
    "        X = np.concatenate((X_0, dW), axis=1).cumsum(1)\n",
    "\n",
    "        return self.S_0 * np.exp(X)\n",
    "    \n",
    "    def __str__(self):\n",
    "\n",
    "        S_0, r, sigma, T, n = self.S_0, self.r, self.sigma, self.T, self.n\n",
    "\n",
    "        return f'GBM with S_0 = {S_0}, r = {r}, sigma = {sigma}, T = {T}, n (discretisation) = {n}'"
   ]
  },
  {
   "cell_type": "code",
   "execution_count": 276,
   "id": "421cfcc4",
   "metadata": {},
   "outputs": [],
   "source": [
    "np.random.seed(0)\n",
    "\n",
    "S_0 = 100.0  # spot stock price\n",
    "T = 1  # maturity\n",
    "r = 0.1  # risk free rate\n",
    "sigma = 0.2  # diffusion coefficient or volatility\n",
    "\n",
    "n = 10000 # number of discretisation points\n",
    "\n",
    "S = GBM(S_0, r, sigma, T, n)"
   ]
  },
  {
   "cell_type": "markdown",
   "id": "0b714acc",
   "metadata": {},
   "source": [
    "## 3. Option Pricing Methods\n",
    "\n",
    "### 3.1 Laplace inversion method \n",
    "\n",
    "#### Talbot algorithm"
   ]
  },
  {
   "cell_type": "code",
   "execution_count": 372,
   "id": "115089ab",
   "metadata": {},
   "outputs": [
    {
     "data": {
      "text/plain": [
       "7.040916033316196"
      ]
     },
     "execution_count": 372,
     "metadata": {},
     "output_type": "execute_result"
    }
   ],
   "source": [
    "from scipy import integrate\n",
    "from scipy.special import gamma\n",
    "\n",
    "K = 100 # Strike price\n",
    "M = 100 # Parameters of the algorithm\n",
    "\n",
    "S_0, T, r, sigma = S.S_0, S.T, S.r, S.sigma\n",
    "\n",
    "h = sigma**2 / 4\n",
    "q = K * T * sigma**2 / (4 * S_0)\n",
    "nu = 2*r / sigma**2 - 1\n",
    "\n",
    "d = np.zeros(M, dtype=complex)\n",
    "d[0] = 2 * M / 5\n",
    "for k in range(1, M):\n",
    "    d[k] = 2 * k * np.pi / 5 * (1 / np.tan(k * np.pi / M) + 1j)\n",
    "\n",
    "g = np.zeros(M, dtype=complex)\n",
    "g[0] = 0.5 * np.exp(d[0])\n",
    "for k in range(1, M):\n",
    "    g[k] = (1 + 1j * (k * np.pi / M) * (1 + (1 / np.tan(k * np.pi / M))**2) - 1j * (1 / np.tan(k * np.pi / M))) * np.exp(d[k])\n",
    "\n",
    "arg = d / h\n",
    "\n",
    "if np.any(np.abs(arg) < np.maximum(0, 2 * (nu + 1))):\n",
    "    raise ValueError('The argument not in right half-plane.')\n",
    "\n",
    "mu = np.sqrt(2 * arg + nu**2)\n",
    "alpha = (mu + nu) / 2\n",
    "beta = (mu - nu) / 2\n",
    "\n",
    "def complex_quadrature(func, a, b):\n",
    "    def real_func(x): return np.real(func(x))\n",
    "    def imag_func(x): return np.imag(func(x))\n",
    "\n",
    "    real_integral = integrate.quad(real_func, a, b)\n",
    "    imag_integral = integrate.quad(imag_func, a, b)\n",
    "    return real_integral[0] + 1j*imag_integral[0]\n",
    "\n",
    "def integrand(u, alpha, beta, q):\n",
    "    return u**(beta - 2) * (1 - u)**(alpha + 1) * np.exp(-u / (2 * q))\n",
    "\n",
    "# Handle arrays (integrate over multiple values of alpha, beta)\n",
    "results = []\n",
    "for a, b in zip(alpha, beta):\n",
    "    results.append(complex_quadrature(lambda u: integrand(u, a, b, q), 0.001, 0.999))\n",
    "\n",
    "results = np.array(results) \n",
    "\n",
    "res = (2 * q)**(1 - beta) / (2 * arg * (alpha + 1) * gamma(beta)) * results * g\n",
    "res = np.real(res)\n",
    "res =  2 / (5 * h) * np.sum(res)\n",
    "\n",
    "res *= np.exp(-r * T) * (S_0 * 4) / (T * sigma**2)\n",
    "res"
   ]
  },
  {
   "cell_type": "code",
   "execution_count": 373,
   "id": "86a117a8",
   "metadata": {},
   "outputs": [
    {
     "name": "stdout",
     "output_type": "stream",
     "text": [
      "GBM model with S_0 = 100.0, r = 0.1, sigma = 0.2, T = 1, n (discretisation) = 10000\n",
      "(Basic) Monte Carlo price: 7.23509 with standard error 0.12285\n"
     ]
    }
   ],
   "source": [
    "# K is the strike price\n",
    "def MC_asian(GBM, trials=1000, K=100):\n",
    "\n",
    "    paths = GBM.generate_paths(trials)\n",
    "\n",
    "    T = GBM.T\n",
    "    \n",
    "    # Get average of each path\n",
    "    A = 1/T * np.mean(paths, axis=1)\n",
    "\n",
    "    # Get payoff of each path\n",
    "    V = np.maximum(A-K, 0)\n",
    "\n",
    "    # Get average of the result\n",
    "    res = np.exp(-r*T) * np.mean(V)\n",
    "\n",
    "    # Get standard error\n",
    "    err = np.exp(-r*T) * scipy.stats.sem(V)\n",
    "\n",
    "    return err, res\n",
    "\n",
    "err, res = MC_asian(S, 5000, K)\n",
    "\n",
    "print(S)\n",
    "print(f'(Basic) Monte Carlo price: {res:.5f} with standard error {err:.5f}')"
   ]
  },
  {
   "cell_type": "markdown",
   "id": "afed034c",
   "metadata": {},
   "source": [
    "### Discrete Geometric Asian options\n",
    "\n",
    "The discrete geometric Asian option with strike price $K$ and expiry $T$ and $N$ monitoring dates is given by\n",
    "\n",
    "$$ C_0 = \\mathrm{e}^{-r T} \\mathbb{E} \\left( G_N - K \\right)^+, \\quad G_N = \\left( \\prod_{i=1}^N S(t_i) \\right)^{1/N} $$\n",
    "\n",
    "which has the closed form solution\n",
    "\n",
    "$$ C_0 = \\mathrm{e}^{-r T}\\left(S_0 \\exp \\left(c_N\\right) \\Phi\\left(d_N+\\sigma b_N \\sqrt{T}\\right)-K \\Phi\\left(d_N\\right)\\right) $$\n",
    "\n",
    "where \n",
    "\n",
    "$$ c_N=\\mu a_N T+\\frac{\\left(\\sigma b_N \\sqrt{T}\\right)^2}{2}, \\quad d_N=\\frac{-\\log \\left(K / S_0\\right)+\\mu a_N T}{\\sigma b_N \\sqrt{T}}$$\n",
    "\n",
    "$$ a_N=\\frac{N+1}{2 N}, \\quad b_N=\\sqrt{\\frac{(N+1)(2N+1)}{6N^2}}$$\n"
   ]
  },
  {
   "cell_type": "code",
   "execution_count": 374,
   "id": "e27e5eb5",
   "metadata": {},
   "outputs": [
    {
     "data": {
      "text/plain": [
       "6.7761085175159135"
      ]
     },
     "execution_count": 374,
     "metadata": {},
     "output_type": "execute_result"
    }
   ],
   "source": [
    "def discrete_price(GBM, K, N=1000):\n",
    "    \n",
    "    S_0, T, r, sigma = GBM.S_0, GBM.T, GBM.r, GBM.sigma\n",
    "\n",
    "    mu = (r - 0.5 * sigma**2)\n",
    "\n",
    "    a_N = (N+1) / (2*N)\n",
    "    b_N = np.sqrt((N+1) * (2*N+1) / (6*N**2))\n",
    "\n",
    "    c_N = mu * a_N * T + 0.5 * (sigma * b_N * np.sqrt(T)) ** 2 \n",
    "    d_N = (-np.log(K/S_0) + mu * a_N * T ) / (sigma * b_N * np.sqrt(T))\n",
    "\n",
    "    # price = np.exp(-r * T) * (S_0 * np.exp(c_N) * norm.cdf(d_N + sigma * b_N * np.sqrt(T)) - K * norm.cdf(d_N))\n",
    "    price = (S_0 * np.exp(c_N) * norm.cdf(d_N + sigma * b_N * np.sqrt(T)) - K * norm.cdf(d_N))\n",
    "\n",
    "    return price\n",
    "\n",
    "np.exp(-r * T) * discrete_price(S, K)"
   ]
  },
  {
   "cell_type": "markdown",
   "id": "85d79abe",
   "metadata": {},
   "source": [
    "### Continuous Geometric Asian options\n",
    "\n",
    "The continuous geometric Asian option with strike price $K$ and expiry $T$ is given by\n",
    "\n",
    "$$C_0 = \\mathrm{e}^{-r T} \\mathbb{E} \\left( G_T - K \\right)^+, \\quad G_T = \\exp \\left( \\frac{1}{T} \\int_0^T \\log S(t) d t \\right) $$\n",
    "\n",
    "which has the closed form solution\n",
    "\n",
    "$$ C_0 = \\mathrm{e}^{-r T}\\left(S_0 \\exp \\left(c\\right) \\Phi\\left(d+ \\frac{1}{\\sqrt{3}} \\sigma  \\sqrt{T}\\right)-K \\Phi\\left(d\\right)\\right) $$\n",
    "\n",
    "where \n",
    "\n",
    "$$ c = \\frac{1}{2} \\mu T+\\frac{1}{6}(\\sigma \\sqrt{T})^2, \\quad d =\\sqrt{3} \\frac{\\log \\left( \\frac{S_0}{K}\\right)+ \\frac{\\mu T}{2}}{\\sigma \\sqrt{T}}$$\n"
   ]
  },
  {
   "cell_type": "code",
   "execution_count": 312,
   "id": "997ae107",
   "metadata": {},
   "outputs": [
    {
     "data": {
      "text/plain": [
       "6.769950595122837"
      ]
     },
     "execution_count": 312,
     "metadata": {},
     "output_type": "execute_result"
    }
   ],
   "source": [
    "def continuous_price(GBM, K):\n",
    "    \n",
    "    S_0, T, r, sigma = GBM.S_0, GBM.T, GBM.r, GBM.sigma\n",
    "\n",
    "    mu = (r - 0.5 * sigma**2)\n",
    "\n",
    "    c = 0.5 * mu * T + 1/6 * sigma**2 * T\n",
    "    d = np.sqrt(3) * (-np.log(K/S_0) + 0.5 * mu * T ) / (sigma * np.sqrt(T))\n",
    "\n",
    "    # price = np.exp(-r * T) * (S_0 * np.exp(c) * norm.cdf(d + np.sqrt(T / 3) * sigma) - K * norm.cdf(d))\n",
    "    price = (S_0 * np.exp(c) * norm.cdf(d + np.sqrt(T / 3) * sigma) - K * norm.cdf(d))\n",
    "\n",
    "    return price\n",
    "\n",
    "np.exp(-r*T) * continuous_price(S, K)"
   ]
  },
  {
   "cell_type": "markdown",
   "id": "2e29e32c",
   "metadata": {},
   "source": [
    "## Control Variate Monte Carlo"
   ]
  },
  {
   "cell_type": "code",
   "execution_count": 375,
   "id": "45c9bb04",
   "metadata": {},
   "outputs": [
    {
     "name": "stdout",
     "output_type": "stream",
     "text": [
      "GBM model with S_0 = 100.0, r = 0.1, sigma = 0.2, T = 1, n (discretisation) = 10000\n",
      "Control variate MC price (K=100): 7.03735 with standard error 0.00245\n"
     ]
    }
   ],
   "source": [
    "# K is the strike price\n",
    "def CVMC_asian(GBM, trials=1000, K=100):\n",
    "\n",
    "    paths = GBM.generate_paths(trials)\n",
    "\n",
    "    r, T = GBM.r, GBM.T\n",
    "    \n",
    "    # Get arithmetic payoff\n",
    "    arith_payoff = np.maximum(1/T * np.mean(paths, axis=1) - K, 0)\n",
    "\n",
    "    #### Use Geometric asian option price as CV ####\n",
    "\n",
    "    # Option 1. Continuous geometric asian option price\n",
    "    geo_payoff = np.maximum(np.exp(1/T * np.mean(np.log(paths), axis=1)) - K, 0)\n",
    "    geo_price = continuous_price(GBM, K)\n",
    "\n",
    "    # # Option 2. Discrete geometric asian option price\n",
    "    # N = GBM.n - 1\n",
    "    # geo_payoff = np.maximum(np.exp(1/N * np.sum(np.log(paths), axis=1)) - K, 0)\n",
    "    # geo_price = discrete_price(GBM, K, N)\n",
    "\n",
    "    ################################################\n",
    "\n",
    "    # Get covariance of the two payoffs\n",
    "    cov = np.mean(arith_payoff * geo_payoff) - np.mean(arith_payoff) * np.mean(geo_payoff)\n",
    "\n",
    "    # Get the beta coefficient\n",
    "    beta = cov / np.var(geo_payoff)\n",
    "\n",
    "    # Get control variate estimator\n",
    "    CV_estimator = arith_payoff + beta * (geo_price - geo_payoff)\n",
    "\n",
    "    res = np.exp(-r*T) * np.mean(CV_estimator)\n",
    "    err = np.exp(-r*T) * scipy.stats.sem(CV_estimator)\n",
    "\n",
    "    return err, res\n",
    "\n",
    "err, res = CVMC_asian(S, 10000, K)\n",
    "\n",
    "print(S)\n",
    "print(f'Control variate MC price (K={K}): {res:.5f} with standard error {err:.5f}')\n"
   ]
  }
 ],
 "metadata": {
  "kernelspec": {
   "display_name": "base",
   "language": "python",
   "name": "python3"
  },
  "language_info": {
   "codemirror_mode": {
    "name": "ipython",
    "version": 3
   },
   "file_extension": ".py",
   "mimetype": "text/x-python",
   "name": "python",
   "nbconvert_exporter": "python",
   "pygments_lexer": "ipython3",
   "version": "3.10.13"
  }
 },
 "nbformat": 4,
 "nbformat_minor": 5
}
